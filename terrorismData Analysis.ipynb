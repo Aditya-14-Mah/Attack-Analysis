{
 "cells": [
  {
   "cell_type": "markdown",
   "metadata": {},
   "source": [
    "Determing the no of attacks Took place on 10th and 20th of any month of any year"
   ]
  },
  {
   "cell_type": "code",
   "execution_count": 13,
   "metadata": {},
   "outputs": [
    {
     "name": "stdout",
     "output_type": "stream",
     "text": [
      "11994\n"
     ]
    }
   ],
   "source": [
    "import numpy as np\n",
    "import csv\n",
    "with open('terrorismData.csv','r',encoding='utf8') as file_data:\n",
    "    file_list=csv.DictReader(file_data,skipinitialspace=True)\n",
    "    c=0\n",
    "    for i in file_list:\n",
    "        if i['Day']=='10' or i['Day']=='20':\n",
    "            c+=1\n",
    "    print(c)"
   ]
  },
  {
   "cell_type": "markdown",
   "metadata": {},
   "source": [
    "Let's find the number of Attacks held between 1 Jan 2010 and 31 Jan 2010"
   ]
  },
  {
   "cell_type": "code",
   "execution_count": 8,
   "metadata": {},
   "outputs": [
    {
     "name": "stdout",
     "output_type": "stream",
     "text": [
      "1089\n"
     ]
    }
   ],
   "source": [
    "with open('terrorismData.csv','r',encoding='utf8') as file_data:\n",
    "    file_list=csv.DictReader(file_data,skipinitialspace=True)\n",
    "    c=0\n",
    "    for i in file_list:\n",
    "        if i['Year']=='2010' and i['Month']=='1':\n",
    "            if i['Day']>='1' and i['Day']<='31':\n",
    "                c+=int(float(i['Killed'])+float(i['Wounded']))\n",
    "    print(c)"
   ]
  },
  {
   "cell_type": "markdown",
   "metadata": {},
   "source": [
    "More Concise version of upper code"
   ]
  },
  {
   "cell_type": "code",
   "execution_count": 9,
   "metadata": {},
   "outputs": [
    {
     "name": "stdout",
     "output_type": "stream",
     "text": [
      "1089\n"
     ]
    }
   ],
   "source": [
    "with open('terrorismData.csv','r',encoding='utf-8') as file_data:\n",
    "    file_list=csv.DictReader(file_data,skipinitialspace=True)\n",
    "    count=sum(int(float(row['Killed'])+float(row['Wounded'])) for row in file_list if row['Year']=='2010' and row['Month']=='1' and '1'<=row['Day']<='31')\n",
    "    print(count)"
   ]
  },
  {
   "cell_type": "markdown",
   "metadata": {},
   "source": [
    "casualaty in red corridor area"
   ]
  },
  {
   "cell_type": "code",
   "execution_count": 5,
   "metadata": {},
   "outputs": [
    {
     "name": "stdout",
     "output_type": "stream",
     "text": [
      "{'Jharkhand': 887, 'Odisha': 428, 'Andhra Pradesh': 251, 'Chhattisgarh': 979}\n"
     ]
    }
   ],
   "source": [
    "import csv\n",
    "with open('terrorismData.csv','r',encoding='utf-8') as file_data:\n",
    "    file_list=csv.DictReader(file_data,skipinitialspace=True)\n",
    "    red={'Jharkhand':0,'Odisha':0,'Andhra Pradesh':0,'Chhattisgarh':0}\n",
    "    c=0\n",
    "    for row in file_list:\n",
    "        for i in red:\n",
    "            if row['State'].find(i)!=-1:\n",
    "                red[i]+=row['Killed']+row['Wounded']\n",
    "                break\n",
    "    print(red)\n"
   ]
  },
  {
   "cell_type": "markdown",
   "metadata": {},
   "source": [
    "find the day on which max number of attacks took place"
   ]
  },
  {
   "cell_type": "code",
   "execution_count": 26,
   "metadata": {},
   "outputs": [
    {
     "name": "stdout",
     "output_type": "stream",
     "text": [
      "Most Attacks took Place on 15th day and the count was 6500\n"
     ]
    }
   ],
   "source": [
    "import csv\n",
    "import numpy as np\n",
    "with open('terrorismData.csv','r',encoding='utf-8') as file_data:\n",
    "    file_list=csv.DictReader(file_data,skipinitialspace=True)\n",
    "    attacks=np.zeros(32)\n",
    "    for i in file_list:\n",
    "        attacks[int(i['Day'])]+=1\n",
    "    #here np.argmax() command is used to find out the index of max value\n",
    "    most_attacks=np.argmax(attacks)\n",
    "    print(f'Most Attacks took Place on {most_attacks}th day and the count was {int(attacks[most_attacks])}')"
   ]
  }
 ],
 "metadata": {
  "kernelspec": {
   "display_name": "Python 3",
   "language": "python",
   "name": "python3"
  },
  "language_info": {
   "codemirror_mode": {
    "name": "ipython",
    "version": 3
   },
   "file_extension": ".py",
   "mimetype": "text/x-python",
   "name": "python",
   "nbconvert_exporter": "python",
   "pygments_lexer": "ipython3",
   "version": "3.12.0"
  }
 },
 "nbformat": 4,
 "nbformat_minor": 2
}
